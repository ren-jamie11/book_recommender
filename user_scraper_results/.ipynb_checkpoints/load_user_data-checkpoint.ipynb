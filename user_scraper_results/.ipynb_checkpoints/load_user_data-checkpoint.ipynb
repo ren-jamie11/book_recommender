{
 "cells": [
  {
   "cell_type": "code",
   "execution_count": 41,
   "id": "4d9e4f16-02e4-4f31-94ea-f71d9496542f",
   "metadata": {},
   "outputs": [
    {
     "name": "stdout",
     "output_type": "stream",
     "text": [
      "361\n",
      "12099\n"
     ]
    },
    {
     "data": {
      "text/html": [
       "<div>\n",
       "<style scoped>\n",
       "    .dataframe tbody tr th:only-of-type {\n",
       "        vertical-align: middle;\n",
       "    }\n",
       "\n",
       "    .dataframe tbody tr th {\n",
       "        vertical-align: top;\n",
       "    }\n",
       "\n",
       "    .dataframe thead th {\n",
       "        text-align: right;\n",
       "    }\n",
       "</style>\n",
       "<table border=\"1\" class=\"dataframe\">\n",
       "  <thead>\n",
       "    <tr style=\"text-align: right;\">\n",
       "      <th></th>\n",
       "      <th>user_url</th>\n",
       "      <th>user_id</th>\n",
       "      <th>name</th>\n",
       "      <th>num_ratings</th>\n",
       "      <th>avg_rating</th>\n",
       "      <th>num_reviews</th>\n",
       "      <th>is_best_reviewer</th>\n",
       "      <th>reviewer_rank</th>\n",
       "      <th>is_most_followed</th>\n",
       "      <th>follow_rank</th>\n",
       "    </tr>\n",
       "  </thead>\n",
       "  <tbody>\n",
       "    <tr>\n",
       "      <th>0</th>\n",
       "      <td>https://www.goodreads.com/user/show/2111327-tori</td>\n",
       "      <td>2111327-tori</td>\n",
       "      <td>Tori</td>\n",
       "      <td>2255</td>\n",
       "      <td>3.74</td>\n",
       "      <td>29</td>\n",
       "      <td>False</td>\n",
       "      <td>0</td>\n",
       "      <td>False</td>\n",
       "      <td>0</td>\n",
       "    </tr>\n",
       "    <tr>\n",
       "      <th>1</th>\n",
       "      <td>https://www.goodreads.com/user/show/156563474-...</td>\n",
       "      <td>156563474-annabel</td>\n",
       "      <td>Annabel</td>\n",
       "      <td>219</td>\n",
       "      <td>3.32</td>\n",
       "      <td>219</td>\n",
       "      <td>False</td>\n",
       "      <td>0</td>\n",
       "      <td>False</td>\n",
       "      <td>0</td>\n",
       "    </tr>\n",
       "    <tr>\n",
       "      <th>2</th>\n",
       "      <td>https://www.goodreads.com/user/show/16861918-s...</td>\n",
       "      <td>16861918-sailakshmi-deepak</td>\n",
       "      <td>Sailakshmi Deepak</td>\n",
       "      <td>377</td>\n",
       "      <td>3.62</td>\n",
       "      <td>3</td>\n",
       "      <td>False</td>\n",
       "      <td>0</td>\n",
       "      <td>False</td>\n",
       "      <td>0</td>\n",
       "    </tr>\n",
       "  </tbody>\n",
       "</table>\n",
       "</div>"
      ],
      "text/plain": [
       "                                            user_url  \\\n",
       "0   https://www.goodreads.com/user/show/2111327-tori   \n",
       "1  https://www.goodreads.com/user/show/156563474-...   \n",
       "2  https://www.goodreads.com/user/show/16861918-s...   \n",
       "\n",
       "                      user_id               name  num_ratings  avg_rating  \\\n",
       "0                2111327-tori               Tori         2255        3.74   \n",
       "1           156563474-annabel            Annabel          219        3.32   \n",
       "2  16861918-sailakshmi-deepak  Sailakshmi Deepak          377        3.62   \n",
       "\n",
       "   num_reviews  is_best_reviewer  reviewer_rank  is_most_followed  follow_rank  \n",
       "0           29             False              0             False            0  \n",
       "1          219             False              0             False            0  \n",
       "2            3             False              0             False            0  "
      ]
     },
     "execution_count": 41,
     "metadata": {},
     "output_type": "execute_result"
    }
   ],
   "source": [
    "import pandas as pd\n",
    "import numpy as np\n",
    "import matplotlib.pyplot as plt\n",
    "\n",
    "i = 5\n",
    "\n",
    "users = pd.read_parquet(f\"group_{i}_user_data.parquet\")\n",
    "user_reviews = pd.read_parquet(f\"group_{i}_user_reviews.parquet\")\n",
    "\n",
    "users = users[users.num_ratings != 0]\n",
    "user_reviews = user_reviews[user_reviews.rating != 0]\n",
    "\n",
    "print(len(users))\n",
    "print(len(user_reviews))\n",
    "\n",
    "users.head(3)"
   ]
  },
  {
   "cell_type": "code",
   "execution_count": null,
   "id": "961e95cf-35f3-4526-a27f-b35aa0604720",
   "metadata": {},
   "outputs": [],
   "source": []
  }
 ],
 "metadata": {
  "kernelspec": {
   "display_name": "Python 3 (ipykernel)",
   "language": "python",
   "name": "python3"
  },
  "language_info": {
   "codemirror_mode": {
    "name": "ipython",
    "version": 3
   },
   "file_extension": ".py",
   "mimetype": "text/x-python",
   "name": "python",
   "nbconvert_exporter": "python",
   "pygments_lexer": "ipython3",
   "version": "3.12.2"
  }
 },
 "nbformat": 4,
 "nbformat_minor": 5
}
