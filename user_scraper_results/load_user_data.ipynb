{
 "cells": [
  {
   "cell_type": "code",
   "execution_count": 85,
   "id": "4d9e4f16-02e4-4f31-94ea-f71d9496542f",
   "metadata": {},
   "outputs": [
    {
     "name": "stdout",
     "output_type": "stream",
     "text": [
      "361\n",
      "12099\n"
     ]
    },
    {
     "data": {
      "text/html": [
       "<div>\n",
       "<style scoped>\n",
       "    .dataframe tbody tr th:only-of-type {\n",
       "        vertical-align: middle;\n",
       "    }\n",
       "\n",
       "    .dataframe tbody tr th {\n",
       "        vertical-align: top;\n",
       "    }\n",
       "\n",
       "    .dataframe thead th {\n",
       "        text-align: right;\n",
       "    }\n",
       "</style>\n",
       "<table border=\"1\" class=\"dataframe\">\n",
       "  <thead>\n",
       "    <tr style=\"text-align: right;\">\n",
       "      <th></th>\n",
       "      <th>user_url</th>\n",
       "      <th>user_id</th>\n",
       "      <th>name</th>\n",
       "      <th>num_ratings</th>\n",
       "      <th>avg_rating</th>\n",
       "      <th>num_reviews</th>\n",
       "      <th>is_best_reviewer</th>\n",
       "      <th>reviewer_rank</th>\n",
       "      <th>is_most_followed</th>\n",
       "      <th>follow_rank</th>\n",
       "    </tr>\n",
       "  </thead>\n",
       "  <tbody>\n",
       "    <tr>\n",
       "      <th>0</th>\n",
       "      <td>https://www.goodreads.com/user/show/2111327-tori</td>\n",
       "      <td>2111327-tori</td>\n",
       "      <td>Tori</td>\n",
       "      <td>2255</td>\n",
       "      <td>3.74</td>\n",
       "      <td>29</td>\n",
       "      <td>False</td>\n",
       "      <td>0</td>\n",
       "      <td>False</td>\n",
       "      <td>0</td>\n",
       "    </tr>\n",
       "    <tr>\n",
       "      <th>1</th>\n",
       "      <td>https://www.goodreads.com/user/show/156563474-...</td>\n",
       "      <td>156563474-annabel</td>\n",
       "      <td>Annabel</td>\n",
       "      <td>219</td>\n",
       "      <td>3.32</td>\n",
       "      <td>219</td>\n",
       "      <td>False</td>\n",
       "      <td>0</td>\n",
       "      <td>False</td>\n",
       "      <td>0</td>\n",
       "    </tr>\n",
       "    <tr>\n",
       "      <th>2</th>\n",
       "      <td>https://www.goodreads.com/user/show/16861918-s...</td>\n",
       "      <td>16861918-sailakshmi-deepak</td>\n",
       "      <td>Sailakshmi Deepak</td>\n",
       "      <td>377</td>\n",
       "      <td>3.62</td>\n",
       "      <td>3</td>\n",
       "      <td>False</td>\n",
       "      <td>0</td>\n",
       "      <td>False</td>\n",
       "      <td>0</td>\n",
       "    </tr>\n",
       "  </tbody>\n",
       "</table>\n",
       "</div>"
      ],
      "text/plain": [
       "                                            user_url  \\\n",
       "0   https://www.goodreads.com/user/show/2111327-tori   \n",
       "1  https://www.goodreads.com/user/show/156563474-...   \n",
       "2  https://www.goodreads.com/user/show/16861918-s...   \n",
       "\n",
       "                      user_id               name  num_ratings  avg_rating  \\\n",
       "0                2111327-tori               Tori         2255        3.74   \n",
       "1           156563474-annabel            Annabel          219        3.32   \n",
       "2  16861918-sailakshmi-deepak  Sailakshmi Deepak          377        3.62   \n",
       "\n",
       "   num_reviews  is_best_reviewer  reviewer_rank  is_most_followed  follow_rank  \n",
       "0           29             False              0             False            0  \n",
       "1          219             False              0             False            0  \n",
       "2            3             False              0             False            0  "
      ]
     },
     "execution_count": 85,
     "metadata": {},
     "output_type": "execute_result"
    }
   ],
   "source": [
    "import pandas as pd\n",
    "import numpy as np\n",
    "import matplotlib.pyplot as plt\n",
    "import os\n",
    "\n",
    "i = 5\n",
    "\n",
    "ex_users = pd.read_parquet(f\"group_{i}_user_data.parquet\")\n",
    "ex_user_reviews = pd.read_parquet(f\"group_{i}_user_reviews.parquet\")\n",
    "\n",
    "ex_users = users[users.num_ratings != 0]\n",
    "ex_user_reviews = user_reviews[user_reviews.rating != 0]\n",
    "\n",
    "print(len(ex_users))\n",
    "print(len(ex_user_reviews))\n",
    "\n",
    "users.head(3)"
   ]
  },
  {
   "cell_type": "markdown",
   "id": "83757ba9-ca45-48ea-8fa9-0255189f8eb6",
   "metadata": {},
   "source": [
    "#### Full df"
   ]
  },
  {
   "cell_type": "code",
   "execution_count": 54,
   "id": "38b25788-768e-4210-9521-aace5e561e70",
   "metadata": {},
   "outputs": [
    {
     "name": "stdout",
     "output_type": "stream",
     "text": [
      "There are 9466 original users (64.75%)\n",
      "There are 330180 new user reviews (92.66%)\n"
     ]
    }
   ],
   "source": [
    "original_users = pd.read_parquet(f\"users_data.parquet\")\n",
    "old_length = len(original_users)\n",
    "original_users = original_users[original_users.num_ratings != 0]\n",
    "print(f\"There are {len(original_users)} original users ({len(original_users)*100/old_length:.2f}%)\")\n",
    "\n",
    "original_users_reviews = pd.read_parquet(f\"users_40_book_reviews.parquet\")\n",
    "old_length = len(original_users_reviews)\n",
    "original_user_reviews = original_users_reviews[original_users_reviews.rating != 0]\n",
    "print(f\"There are {len(original_user_reviews)} new user reviews ({len(original_user_reviews)*100/old_length:.2f}%)\")\n"
   ]
  },
  {
   "cell_type": "code",
   "execution_count": 55,
   "id": "ba9ae5f0-f92a-45b5-9f77-322e1a13a046",
   "metadata": {},
   "outputs": [
    {
     "data": {
      "text/html": [
       "<div>\n",
       "<style scoped>\n",
       "    .dataframe tbody tr th:only-of-type {\n",
       "        vertical-align: middle;\n",
       "    }\n",
       "\n",
       "    .dataframe tbody tr th {\n",
       "        vertical-align: top;\n",
       "    }\n",
       "\n",
       "    .dataframe thead th {\n",
       "        text-align: right;\n",
       "    }\n",
       "</style>\n",
       "<table border=\"1\" class=\"dataframe\">\n",
       "  <thead>\n",
       "    <tr style=\"text-align: right;\">\n",
       "      <th></th>\n",
       "      <th>user_id</th>\n",
       "      <th>title_id</th>\n",
       "      <th>title</th>\n",
       "      <th>rating</th>\n",
       "      <th>votes</th>\n",
       "    </tr>\n",
       "  </thead>\n",
       "  <tbody>\n",
       "    <tr>\n",
       "      <th>0</th>\n",
       "      <td>7869133-sarah</td>\n",
       "      <td>11389341-the-meaning-of-marriage</td>\n",
       "      <td>The Meaning of Marriage: Facing the Complexiti...</td>\n",
       "      <td>3</td>\n",
       "      <td>13</td>\n",
       "    </tr>\n",
       "    <tr>\n",
       "      <th>1</th>\n",
       "      <td>7869133-sarah</td>\n",
       "      <td>116789.Himalayan_Quest</td>\n",
       "      <td>Himalayan Quest: Ed Viesturs on the 8,000-Mete...</td>\n",
       "      <td>4</td>\n",
       "      <td>2</td>\n",
       "    </tr>\n",
       "    <tr>\n",
       "      <th>2</th>\n",
       "      <td>7869133-sarah</td>\n",
       "      <td>214614.Desert_Solitaire</td>\n",
       "      <td>Desert Solitaire</td>\n",
       "      <td>4</td>\n",
       "      <td>2</td>\n",
       "    </tr>\n",
       "    <tr>\n",
       "      <th>3</th>\n",
       "      <td>7869133-sarah</td>\n",
       "      <td>37566.Trapped_in_the_Mirror</td>\n",
       "      <td>Trapped in the Mirror: Adult Children of Narci...</td>\n",
       "      <td>3</td>\n",
       "      <td>1</td>\n",
       "    </tr>\n",
       "    <tr>\n",
       "      <th>4</th>\n",
       "      <td>7869133-sarah</td>\n",
       "      <td>40265755-annapurna</td>\n",
       "      <td>Annapurna: The First Conquest of an 8,000-Mete...</td>\n",
       "      <td>4</td>\n",
       "      <td>1</td>\n",
       "    </tr>\n",
       "  </tbody>\n",
       "</table>\n",
       "</div>"
      ],
      "text/plain": [
       "         user_id                          title_id  \\\n",
       "0  7869133-sarah  11389341-the-meaning-of-marriage   \n",
       "1  7869133-sarah            116789.Himalayan_Quest   \n",
       "2  7869133-sarah           214614.Desert_Solitaire   \n",
       "3  7869133-sarah       37566.Trapped_in_the_Mirror   \n",
       "4  7869133-sarah                40265755-annapurna   \n",
       "\n",
       "                                               title  rating  votes  \n",
       "0  The Meaning of Marriage: Facing the Complexiti...       3     13  \n",
       "1  Himalayan Quest: Ed Viesturs on the 8,000-Mete...       4      2  \n",
       "2                                   Desert Solitaire       4      2  \n",
       "3  Trapped in the Mirror: Adult Children of Narci...       3      1  \n",
       "4  Annapurna: The First Conquest of an 8,000-Mete...       4      1  "
      ]
     },
     "execution_count": 55,
     "metadata": {},
     "output_type": "execute_result"
    }
   ],
   "source": [
    "original_users_reviews.head()"
   ]
  },
  {
   "cell_type": "code",
   "execution_count": 70,
   "id": "fcc5fc3c-a8d3-4d6a-8d7b-a3394108ee80",
   "metadata": {},
   "outputs": [
    {
     "data": {
      "text/plain": [
       "356348"
      ]
     },
     "execution_count": 70,
     "metadata": {},
     "output_type": "execute_result"
    }
   ],
   "source": [
    "len(original_users_reviews)"
   ]
  },
  {
   "cell_type": "markdown",
   "id": "8c214bc3-99ee-46ca-9c37-85b03770a897",
   "metadata": {},
   "source": [
    "#### Get title ids from top "
   ]
  },
  {
   "cell_type": "code",
   "execution_count": 81,
   "id": "11a6e8c8-1c1e-48bb-a9da-5f72f3e9e5d9",
   "metadata": {},
   "outputs": [],
   "source": [
    "top_5_reviews_for_each_user = original_users_reviews.groupby('user_id').head(5)"
   ]
  },
  {
   "cell_type": "code",
   "execution_count": 92,
   "id": "61814d9f-f7a2-445d-99b8-237e3f628001",
   "metadata": {},
   "outputs": [
    {
     "data": {
      "text/html": [
       "<div>\n",
       "<style scoped>\n",
       "    .dataframe tbody tr th:only-of-type {\n",
       "        vertical-align: middle;\n",
       "    }\n",
       "\n",
       "    .dataframe tbody tr th {\n",
       "        vertical-align: top;\n",
       "    }\n",
       "\n",
       "    .dataframe thead th {\n",
       "        text-align: right;\n",
       "    }\n",
       "</style>\n",
       "<table border=\"1\" class=\"dataframe\">\n",
       "  <thead>\n",
       "    <tr style=\"text-align: right;\">\n",
       "      <th></th>\n",
       "      <th>user_id</th>\n",
       "      <th>title_id</th>\n",
       "      <th>title</th>\n",
       "      <th>rating</th>\n",
       "      <th>votes</th>\n",
       "    </tr>\n",
       "  </thead>\n",
       "  <tbody>\n",
       "    <tr>\n",
       "      <th>0</th>\n",
       "      <td>7869133-sarah</td>\n",
       "      <td>11389341-the-meaning-of-marriage</td>\n",
       "      <td>The Meaning of Marriage: Facing the Complexiti...</td>\n",
       "      <td>3</td>\n",
       "      <td>13</td>\n",
       "    </tr>\n",
       "    <tr>\n",
       "      <th>1</th>\n",
       "      <td>7869133-sarah</td>\n",
       "      <td>116789.Himalayan_Quest</td>\n",
       "      <td>Himalayan Quest: Ed Viesturs on the 8,000-Mete...</td>\n",
       "      <td>4</td>\n",
       "      <td>2</td>\n",
       "    </tr>\n",
       "    <tr>\n",
       "      <th>2</th>\n",
       "      <td>7869133-sarah</td>\n",
       "      <td>214614.Desert_Solitaire</td>\n",
       "      <td>Desert Solitaire</td>\n",
       "      <td>4</td>\n",
       "      <td>2</td>\n",
       "    </tr>\n",
       "    <tr>\n",
       "      <th>3</th>\n",
       "      <td>7869133-sarah</td>\n",
       "      <td>37566.Trapped_in_the_Mirror</td>\n",
       "      <td>Trapped in the Mirror: Adult Children of Narci...</td>\n",
       "      <td>3</td>\n",
       "      <td>1</td>\n",
       "    </tr>\n",
       "    <tr>\n",
       "      <th>4</th>\n",
       "      <td>7869133-sarah</td>\n",
       "      <td>40265755-annapurna</td>\n",
       "      <td>Annapurna: The First Conquest of an 8,000-Mete...</td>\n",
       "      <td>4</td>\n",
       "      <td>1</td>\n",
       "    </tr>\n",
       "  </tbody>\n",
       "</table>\n",
       "</div>"
      ],
      "text/plain": [
       "         user_id                          title_id  \\\n",
       "0  7869133-sarah  11389341-the-meaning-of-marriage   \n",
       "1  7869133-sarah            116789.Himalayan_Quest   \n",
       "2  7869133-sarah           214614.Desert_Solitaire   \n",
       "3  7869133-sarah       37566.Trapped_in_the_Mirror   \n",
       "4  7869133-sarah                40265755-annapurna   \n",
       "\n",
       "                                               title  rating  votes  \n",
       "0  The Meaning of Marriage: Facing the Complexiti...       3     13  \n",
       "1  Himalayan Quest: Ed Viesturs on the 8,000-Mete...       4      2  \n",
       "2                                   Desert Solitaire       4      2  \n",
       "3  Trapped in the Mirror: Adult Children of Narci...       3      1  \n",
       "4  Annapurna: The First Conquest of an 8,000-Mete...       4      1  "
      ]
     },
     "execution_count": 92,
     "metadata": {},
     "output_type": "execute_result"
    }
   ],
   "source": [
    "top_5_reviews_for_each_user.head()"
   ]
  },
  {
   "cell_type": "code",
   "execution_count": 93,
   "id": "da9c175f-3895-450f-90ae-01924fda4205",
   "metadata": {},
   "outputs": [],
   "source": [
    "top_5_reviews_for_each_user.to_parquet('top_5_reviews_for_each_original_user.parquet')"
   ]
  },
  {
   "cell_type": "code",
   "execution_count": 82,
   "id": "be48813f-2937-49fe-8ca8-4c50192fb1ec",
   "metadata": {},
   "outputs": [
    {
     "name": "stdout",
     "output_type": "stream",
     "text": [
      "There are 28808 unique titles from these users (63.5%)\n"
     ]
    }
   ],
   "source": [
    "title_ids = top_5_reviews_for_each_user.title_id.unique().tolist()\n",
    "print(f\"There are {len(title_ids)} unique titles from these users ({len(title_ids)*100/len(top_5_reviews_for_each_user):.1f}%)\")"
   ]
  },
  {
   "cell_type": "code",
   "execution_count": 83,
   "id": "149ecdef-6f50-4aa7-8169-989dba2d2d1e",
   "metadata": {},
   "outputs": [
    {
     "data": {
      "text/plain": [
       "['https://www.goodreads.com/book/show/11389341-the-meaning-of-marriage',\n",
       " 'https://www.goodreads.com/book/show/116789.Himalayan_Quest',\n",
       " 'https://www.goodreads.com/book/show/214614.Desert_Solitaire',\n",
       " 'https://www.goodreads.com/book/show/37566.Trapped_in_the_Mirror',\n",
       " 'https://www.goodreads.com/book/show/40265755-annapurna']"
      ]
     },
     "execution_count": 83,
     "metadata": {},
     "output_type": "execute_result"
    }
   ],
   "source": [
    "base_url = 'https://www.goodreads.com/book/show/'\n",
    "full_title_urls = [base_url + i for i in title_ids]\n",
    "full_title_urls[:5]"
   ]
  },
  {
   "cell_type": "code",
   "execution_count": 84,
   "id": "14fe6afc-f36d-44b3-a784-ff561aa3dc93",
   "metadata": {},
   "outputs": [
    {
     "data": {
      "text/plain": [
       "28808"
      ]
     },
     "execution_count": 84,
     "metadata": {},
     "output_type": "execute_result"
    }
   ],
   "source": [
    "len(full_title_urls)"
   ]
  },
  {
   "cell_type": "markdown",
   "id": "86e2aafa-25e7-41fc-9196-fbab69ec5570",
   "metadata": {},
   "source": [
    "#### Writing files"
   ]
  },
  {
   "cell_type": "code",
   "execution_count": 90,
   "id": "1dbe1eea-6e7f-4f2c-a1af-902931714752",
   "metadata": {},
   "outputs": [],
   "source": [
    "def write_urls_to_chunks(url_list, chunk_size=500, file_name_prefix='', output_dir='.'):\n",
    "\n",
    "    os.makedirs(output_dir, exist_ok=True)  # Ensure the directory exists\n",
    "\n",
    "    for i in range(0, len(url_list), chunk_size):\n",
    "        chunk = url_list[i:i + chunk_size]\n",
    "        file_index = (i // chunk_size) + 1\n",
    "        full_path = os.path.join(output_dir, f'{file_name_prefix}_{file_index}.txt')\n",
    "        \n",
    "        with open(full_path, 'w') as f:\n",
    "            f.writelines(url + '\\n' for url in chunk)\n"
   ]
  },
  {
   "cell_type": "code",
   "execution_count": 91,
   "id": "29cab0ca-9b71-4dde-8d0a-0049df4796b1",
   "metadata": {},
   "outputs": [],
   "source": [
    "write_urls_to_chunks(full_title_urls, file_name_prefix = 'new_titles_group', output_dir = 'new_titles')"
   ]
  },
  {
   "cell_type": "code",
   "execution_count": null,
   "id": "fb415f78-b047-4066-b999-6d837181e3b6",
   "metadata": {},
   "outputs": [],
   "source": []
  },
  {
   "cell_type": "code",
   "execution_count": null,
   "id": "67da481e-24fd-4793-a453-5082e615cfa0",
   "metadata": {},
   "outputs": [],
   "source": []
  },
  {
   "cell_type": "code",
   "execution_count": null,
   "id": "b7ecd25d-b658-49c3-bcdb-d50bfd20fca5",
   "metadata": {},
   "outputs": [],
   "source": []
  }
 ],
 "metadata": {
  "kernelspec": {
   "display_name": "Python 3 (ipykernel)",
   "language": "python",
   "name": "python3"
  },
  "language_info": {
   "codemirror_mode": {
    "name": "ipython",
    "version": 3
   },
   "file_extension": ".py",
   "mimetype": "text/x-python",
   "name": "python",
   "nbconvert_exporter": "python",
   "pygments_lexer": "ipython3",
   "version": "3.12.2"
  }
 },
 "nbformat": 4,
 "nbformat_minor": 5
}
