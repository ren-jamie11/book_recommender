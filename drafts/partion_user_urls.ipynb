{
 "cells": [
  {
   "cell_type": "code",
   "execution_count": 12,
   "id": "96161248-d328-4a2a-bcfa-22a1e2c3747c",
   "metadata": {},
   "outputs": [],
   "source": [
    "from BookScraper import *\n",
    "from UserScraper import *\n",
    "\n",
    "import pandas as pd\n",
    "import numpy as np\n",
    "import time\n",
    "import os\n",
    "\n",
    "def get_urls_from_txt_file(file):\n",
    "    with open(file, 'r') as file:\n",
    "        urls = file.readlines()\n",
    "\n",
    "    urls = [url.strip() for url in urls]\n",
    "    return urls"
   ]
  },
  {
   "cell_type": "code",
   "execution_count": 13,
   "id": "50909da8-2b20-4200-a879-544cb4317cb8",
   "metadata": {},
   "outputs": [],
   "source": [
    "urls = get_urls_from_txt_file(\"unique_user_id_urls.txt\")"
   ]
  },
  {
   "cell_type": "code",
   "execution_count": 14,
   "id": "62601ef8-914b-4a2a-8dbc-e2bf6b3bf687",
   "metadata": {},
   "outputs": [],
   "source": [
    "# Make sure the directory exists\n",
    "output_dir = \"user_id_urls\"\n",
    "\n",
    "# Partition size\n",
    "chunk_size = 500\n",
    "\n",
    "# Loop through the list and write chunks\n",
    "for i in range(0, len(urls), chunk_size):\n",
    "    chunk = urls[i:i + chunk_size]\n",
    "    file_number = (i // chunk_size) + 1\n",
    "    filename = os.path.join(output_dir, f\"usergroup_{file_number}.txt\")\n",
    "    \n",
    "    with open(filename, 'w') as f:\n",
    "        for url in chunk:\n",
    "            f.write(url + '\\n')"
   ]
  },
  {
   "cell_type": "code",
   "execution_count": null,
   "id": "7fc802b3-3826-413d-8564-8bba42bca1d0",
   "metadata": {},
   "outputs": [],
   "source": []
  }
 ],
 "metadata": {
  "kernelspec": {
   "display_name": "Python 3 (ipykernel)",
   "language": "python",
   "name": "python3"
  },
  "language_info": {
   "codemirror_mode": {
    "name": "ipython",
    "version": 3
   },
   "file_extension": ".py",
   "mimetype": "text/x-python",
   "name": "python",
   "nbconvert_exporter": "python",
   "pygments_lexer": "ipython3",
   "version": "3.12.2"
  }
 },
 "nbformat": 4,
 "nbformat_minor": 5
}
